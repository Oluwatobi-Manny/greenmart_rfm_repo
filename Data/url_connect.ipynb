{
 "cells": [
  {
   "cell_type": "code",
   "execution_count": null,
   "metadata": {},
   "outputs": [],
   "source": [
    "# Libraries\n",
    "import pandas as pd\n",
    "\n",
    "# Google Drive file ID\n",
    "file_id = '1Y9IrF5i34EB_ThWPkqrHIyBe8NXg2Gtc'\n",
    "\n",
    "# Construct the direct download URL\n",
    "url = f'https://drive.google.com/uc?export=download&id={file_id}'\n",
    "\n",
    "# Read the url into a DataFrame\n",
    "data = pd.read_csv(url, engine='python').dropna()"
   ]
  }
 ],
 "metadata": {
  "language_info": {
   "name": "python"
  }
 },
 "nbformat": 4,
 "nbformat_minor": 2
}
