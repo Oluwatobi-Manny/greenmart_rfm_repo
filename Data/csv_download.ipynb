{
 "cells": [
  {
   "cell_type": "code",
   "execution_count": null,
   "metadata": {},
   "outputs": [],
   "source": [
    "# Library\n",
    "import requests\n",
    "\n",
    "# Google Drive file ID\n",
    "file_id = '1Y9IrF5i34EB_ThWPkqrHIyBe8NXg2Gtc'\n",
    "# Construct the direct download URL\n",
    "url = f'https://drive.google.com/uc?export=download&id={file_id}'\n",
    "\n",
    "# Send a GET request to the URL\n",
    "response = requests.get(url)\n",
    "\n",
    "# Save the content to a file\n",
    "with open('customer_data.csv', 'wb') as file:\n",
    "    file.write(response.content)\n",
    "\n",
    "print(\"CSV file downloaded successfully.\")"
   ]
  }
 ],
 "metadata": {
  "language_info": {
   "name": "python"
  }
 },
 "nbformat": 4,
 "nbformat_minor": 2
}
